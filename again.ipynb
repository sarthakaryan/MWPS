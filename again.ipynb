{
 "cells": [
  {
   "cell_type": "code",
   "execution_count": 1,
   "metadata": {},
   "outputs": [],
   "source": [
    "import pandas as pd\n",
    "import numpy as np\n",
    "import re\n",
    "from unidecode import unidecode\n",
    "import nltk\n",
    "import spacy\n",
    "nlp = spacy.load('en_core_web_sm')"
   ]
  },
  {
   "cell_type": "code",
   "execution_count": 2,
   "metadata": {},
   "outputs": [],
   "source": [
    "class WordEncoder:\n",
    "    def __init__(self):\n",
    "        self.encoding_map = {}\n",
    "        self.decoding_map = {}\n",
    "        self.current_index = 43\n",
    "    \n",
    "    def encode_word(self, word):\n",
    "        if word not in self.encoding_map:\n",
    "            self.encoding_map[word] = self.current_index\n",
    "            self.decoding_map[self.current_index] = word\n",
    "            self.current_index += 1\n",
    "        return self.encoding_map[word]\n",
    "    \n",
    "    def decode_word(self, encoded_word):\n",
    "        if encoded_word in self.decoding_map:\n",
    "            return self.decoding_map[encoded_word]\n",
    "        else:\n",
    "            raise ValueError(\"Invalid encoded word.\")"
   ]
  },
  {
   "cell_type": "code",
   "execution_count": 3,
   "metadata": {},
   "outputs": [],
   "source": [
    "encoder = WordEncoder()"
   ]
  },
  {
   "cell_type": "code",
   "execution_count": 4,
   "metadata": {},
   "outputs": [],
   "source": [
    "wordnet_lemmatizer = nltk.stem.WordNetLemmatizer()\n"
   ]
  },
  {
   "cell_type": "code",
   "execution_count": 5,
   "metadata": {},
   "outputs": [
    {
     "data": {
      "text/html": [
       "<div>\n",
       "<style scoped>\n",
       "    .dataframe tbody tr th:only-of-type {\n",
       "        vertical-align: middle;\n",
       "    }\n",
       "\n",
       "    .dataframe tbody tr th {\n",
       "        vertical-align: top;\n",
       "    }\n",
       "\n",
       "    .dataframe thead th {\n",
       "        text-align: right;\n",
       "    }\n",
       "</style>\n",
       "<table border=\"1\" class=\"dataframe\">\n",
       "  <thead>\n",
       "    <tr style=\"text-align: right;\">\n",
       "      <th></th>\n",
       "      <th>Question</th>\n",
       "      <th>Equation</th>\n",
       "      <th>Type</th>\n",
       "    </tr>\n",
       "  </thead>\n",
       "  <tbody>\n",
       "    <tr>\n",
       "      <th>0</th>\n",
       "      <td>Bryan also read his book.If there are number0 ...</td>\n",
       "      <td>* number0 number1</td>\n",
       "      <td>General</td>\n",
       "    </tr>\n",
       "    <tr>\n",
       "      <th>1</th>\n",
       "      <td>For the fifth grade, the chair is placed in nu...</td>\n",
       "      <td>* number0 number1</td>\n",
       "      <td>General</td>\n",
       "    </tr>\n",
       "    <tr>\n",
       "      <th>2</th>\n",
       "      <td>The park currently has number0 short trees and...</td>\n",
       "      <td>+ number0 number2</td>\n",
       "      <td>General</td>\n",
       "    </tr>\n",
       "    <tr>\n",
       "      <th>3</th>\n",
       "      <td>Conner has $ number0 in his bank account.He sp...</td>\n",
       "      <td>- number0 * number1 number2</td>\n",
       "      <td>General</td>\n",
       "    </tr>\n",
       "    <tr>\n",
       "      <th>4</th>\n",
       "      <td>There are currently number0 wooden trees in th...</td>\n",
       "      <td>+ number0 number1</td>\n",
       "      <td>General</td>\n",
       "    </tr>\n",
       "    <tr>\n",
       "      <th>...</th>\n",
       "      <td>...</td>\n",
       "      <td>...</td>\n",
       "      <td>...</td>\n",
       "    </tr>\n",
       "    <tr>\n",
       "      <th>4815</th>\n",
       "      <td>how many hours are there in number0 seconds ?</td>\n",
       "      <td>/ / number0 60 60</td>\n",
       "      <td>Common</td>\n",
       "    </tr>\n",
       "    <tr>\n",
       "      <th>4816</th>\n",
       "      <td>how many seconds are there in number0 minutes ?</td>\n",
       "      <td>* number0 60</td>\n",
       "      <td>Common</td>\n",
       "    </tr>\n",
       "    <tr>\n",
       "      <th>4817</th>\n",
       "      <td>how many minutes are there in number0 seconds ?</td>\n",
       "      <td>/ number0 60</td>\n",
       "      <td>Common</td>\n",
       "    </tr>\n",
       "    <tr>\n",
       "      <th>4818</th>\n",
       "      <td>how many minutes are there in number0 hours ?</td>\n",
       "      <td>* number0 60</td>\n",
       "      <td>Common</td>\n",
       "    </tr>\n",
       "    <tr>\n",
       "      <th>4819</th>\n",
       "      <td>how many hours are there in number0 minutes ?</td>\n",
       "      <td>/ number0 60</td>\n",
       "      <td>Common</td>\n",
       "    </tr>\n",
       "  </tbody>\n",
       "</table>\n",
       "<p>4820 rows × 3 columns</p>\n",
       "</div>"
      ],
      "text/plain": [
       "                                               Question  \\\n",
       "0     Bryan also read his book.If there are number0 ...   \n",
       "1     For the fifth grade, the chair is placed in nu...   \n",
       "2     The park currently has number0 short trees and...   \n",
       "3     Conner has $ number0 in his bank account.He sp...   \n",
       "4     There are currently number0 wooden trees in th...   \n",
       "...                                                 ...   \n",
       "4815      how many hours are there in number0 seconds ?   \n",
       "4816    how many seconds are there in number0 minutes ?   \n",
       "4817    how many minutes are there in number0 seconds ?   \n",
       "4818      how many minutes are there in number0 hours ?   \n",
       "4819      how many hours are there in number0 minutes ?   \n",
       "\n",
       "                         Equation     Type  \n",
       "0               * number0 number1  General  \n",
       "1               * number0 number1  General  \n",
       "2               + number0 number2  General  \n",
       "3     - number0 * number1 number2  General  \n",
       "4               + number0 number1  General  \n",
       "...                           ...      ...  \n",
       "4815            / / number0 60 60   Common  \n",
       "4816                 * number0 60   Common  \n",
       "4817                 / number0 60   Common  \n",
       "4818                 * number0 60   Common  \n",
       "4819                 / number0 60   Common  \n",
       "\n",
       "[4820 rows x 3 columns]"
      ]
     },
     "execution_count": 5,
     "metadata": {},
     "output_type": "execute_result"
    }
   ],
   "source": [
    "df = pd.read_csv('translated_combined.csv').reset_index()[['Question','Equation','Type']].fillna(\"General\")\n",
    "df"
   ]
  },
  {
   "cell_type": "code",
   "execution_count": 6,
   "metadata": {},
   "outputs": [
    {
     "data": {
      "text/plain": [
       "array(['General', 'Addition', 'Subtraction', 'Sum', 'TVQ-Change',\n",
       "       'Multiplication', 'Common-Division', 'TVQ-Final', 'TVQ-Initial',\n",
       "       'Ceil-Division', 'Floor-Division', 'Difference', 'Common'],\n",
       "      dtype=object)"
      ]
     },
     "execution_count": 6,
     "metadata": {},
     "output_type": "execute_result"
    }
   ],
   "source": [
    "df.Type.unique()"
   ]
  },
  {
   "cell_type": "code",
   "execution_count": 7,
   "metadata": {},
   "outputs": [
    {
     "data": {
      "text/html": [
       "<div>\n",
       "<style scoped>\n",
       "    .dataframe tbody tr th:only-of-type {\n",
       "        vertical-align: middle;\n",
       "    }\n",
       "\n",
       "    .dataframe tbody tr th {\n",
       "        vertical-align: top;\n",
       "    }\n",
       "\n",
       "    .dataframe thead th {\n",
       "        text-align: right;\n",
       "    }\n",
       "</style>\n",
       "<table border=\"1\" class=\"dataframe\">\n",
       "  <thead>\n",
       "    <tr style=\"text-align: right;\">\n",
       "      <th></th>\n",
       "      <th>Question</th>\n",
       "      <th>Type</th>\n",
       "    </tr>\n",
       "  </thead>\n",
       "  <tbody>\n",
       "    <tr>\n",
       "      <th>0</th>\n",
       "      <td>Bryan also read his book.If there are number0 ...</td>\n",
       "      <td>General</td>\n",
       "    </tr>\n",
       "    <tr>\n",
       "      <th>1</th>\n",
       "      <td>For the fifth grade, the chair is placed in nu...</td>\n",
       "      <td>General</td>\n",
       "    </tr>\n",
       "    <tr>\n",
       "      <th>2</th>\n",
       "      <td>The park currently has number0 short trees and...</td>\n",
       "      <td>General</td>\n",
       "    </tr>\n",
       "    <tr>\n",
       "      <th>3</th>\n",
       "      <td>Conner has $ number0 in his bank account.He sp...</td>\n",
       "      <td>General</td>\n",
       "    </tr>\n",
       "    <tr>\n",
       "      <th>4</th>\n",
       "      <td>There are currently number0 wooden trees in th...</td>\n",
       "      <td>General</td>\n",
       "    </tr>\n",
       "    <tr>\n",
       "      <th>...</th>\n",
       "      <td>...</td>\n",
       "      <td>...</td>\n",
       "    </tr>\n",
       "    <tr>\n",
       "      <th>4815</th>\n",
       "      <td>how many hours are there in number0 seconds ?</td>\n",
       "      <td>Common</td>\n",
       "    </tr>\n",
       "    <tr>\n",
       "      <th>4816</th>\n",
       "      <td>how many seconds are there in number0 minutes ?</td>\n",
       "      <td>Common</td>\n",
       "    </tr>\n",
       "    <tr>\n",
       "      <th>4817</th>\n",
       "      <td>how many minutes are there in number0 seconds ?</td>\n",
       "      <td>Common</td>\n",
       "    </tr>\n",
       "    <tr>\n",
       "      <th>4818</th>\n",
       "      <td>how many minutes are there in number0 hours ?</td>\n",
       "      <td>Common</td>\n",
       "    </tr>\n",
       "    <tr>\n",
       "      <th>4819</th>\n",
       "      <td>how many hours are there in number0 minutes ?</td>\n",
       "      <td>Common</td>\n",
       "    </tr>\n",
       "  </tbody>\n",
       "</table>\n",
       "<p>4820 rows × 2 columns</p>\n",
       "</div>"
      ],
      "text/plain": [
       "                                               Question     Type\n",
       "0     Bryan also read his book.If there are number0 ...  General\n",
       "1     For the fifth grade, the chair is placed in nu...  General\n",
       "2     The park currently has number0 short trees and...  General\n",
       "3     Conner has $ number0 in his bank account.He sp...  General\n",
       "4     There are currently number0 wooden trees in th...  General\n",
       "...                                                 ...      ...\n",
       "4815      how many hours are there in number0 seconds ?   Common\n",
       "4816    how many seconds are there in number0 minutes ?   Common\n",
       "4817    how many minutes are there in number0 seconds ?   Common\n",
       "4818      how many minutes are there in number0 hours ?   Common\n",
       "4819      how many hours are there in number0 minutes ?   Common\n",
       "\n",
       "[4820 rows x 2 columns]"
      ]
     },
     "execution_count": 7,
     "metadata": {},
     "output_type": "execute_result"
    }
   ],
   "source": [
    "level1DataFrame = df[['Question','Type']]\n",
    "level1DataFrame"
   ]
  },
  {
   "cell_type": "code",
   "execution_count": 8,
   "metadata": {},
   "outputs": [],
   "source": [
    "def l1PreProcessingX(text):\n",
    "        text = text.replace(\".\", \" \")\n",
    "        text = text.replace(\",\", \"\")\n",
    "        doc = nlp(text.lower())\n",
    "        tagged_words = np.array(list(map(lambda x: (x.text, x.pos_), doc)))\n",
    "\n",
    "        verbs_raw = tagged_words[tagged_words[:, 1] == 'VERB'][:, 0]\n",
    "        verbs_raw = list(dict.fromkeys([wordnet_lemmatizer.lemmatize(i,pos='v') for i in verbs_raw]))\n",
    "        encoded_verbs = [encoder.encode_word(i) for i in verbs_raw]\n",
    "        if len(encoded_verbs) < 10:\n",
    "                encoded_verbs = np.pad(encoded_verbs, (0, 10 - len(encoded_verbs)))\n",
    "\n",
    "        \n",
    "        \n",
    "        adj_raw = tagged_words[tagged_words[:, 1] == 'ADJ'][:, 0]\n",
    "        encoded_adjs = [encoder.encode_word(i) for i in adj_raw]\n",
    "        if len(encoded_adjs) < 5:\n",
    "                encoded_adjs = np.pad(encoded_adjs, (0, 5 - len(encoded_adjs)))\n",
    "\n",
    "        adv_raw = tagged_words[tagged_words[:, 1] == 'ADV'][:, 0]\n",
    "        encoded_advs = [encoder.encode_word(i) for i in adv_raw]\n",
    "        if len(encoded_advs) < 5:\n",
    "                encoded_advs = np.pad(encoded_advs, (0, 5 - len(encoded_advs)))\n",
    "\n",
    "        aux_raw = tagged_words[tagged_words[:, 1] == 'AUX'][:, 0]\n",
    "        encoded_auxs = [encoder.encode_word(i) for i in aux_raw]\n",
    "        if len(encoded_auxs) < 5:\n",
    "                encoded_auxs = np.pad(encoded_auxs, (0, 5 - len(encoded_auxs)))\n",
    "\n",
    "\n",
    "        return np.array(list(encoded_verbs[:10]) + list(encoded_adjs[:5]) + list(encoded_advs[:5]) + list(encoded_auxs[:5]))\n"
   ]
  },
  {
   "cell_type": "code",
   "execution_count": 9,
   "metadata": {},
   "outputs": [],
   "source": [
    "l1X = [l1PreProcessingX(i) for i in list(level1DataFrame['Question'].values)]"
   ]
  },
  {
   "cell_type": "code",
   "execution_count": 10,
   "metadata": {},
   "outputs": [],
   "source": [
    "l1Y = [encoder.encode_word(i) for i in list(level1DataFrame['Type'].values)]"
   ]
  },
  {
   "cell_type": "code",
   "execution_count": 11,
   "metadata": {},
   "outputs": [
    {
     "data": {
      "text/html": [
       "<style>#sk-container-id-1 {color: black;background-color: white;}#sk-container-id-1 pre{padding: 0;}#sk-container-id-1 div.sk-toggleable {background-color: white;}#sk-container-id-1 label.sk-toggleable__label {cursor: pointer;display: block;width: 100%;margin-bottom: 0;padding: 0.3em;box-sizing: border-box;text-align: center;}#sk-container-id-1 label.sk-toggleable__label-arrow:before {content: \"▸\";float: left;margin-right: 0.25em;color: #696969;}#sk-container-id-1 label.sk-toggleable__label-arrow:hover:before {color: black;}#sk-container-id-1 div.sk-estimator:hover label.sk-toggleable__label-arrow:before {color: black;}#sk-container-id-1 div.sk-toggleable__content {max-height: 0;max-width: 0;overflow: hidden;text-align: left;background-color: #f0f8ff;}#sk-container-id-1 div.sk-toggleable__content pre {margin: 0.2em;color: black;border-radius: 0.25em;background-color: #f0f8ff;}#sk-container-id-1 input.sk-toggleable__control:checked~div.sk-toggleable__content {max-height: 200px;max-width: 100%;overflow: auto;}#sk-container-id-1 input.sk-toggleable__control:checked~label.sk-toggleable__label-arrow:before {content: \"▾\";}#sk-container-id-1 div.sk-estimator input.sk-toggleable__control:checked~label.sk-toggleable__label {background-color: #d4ebff;}#sk-container-id-1 div.sk-label input.sk-toggleable__control:checked~label.sk-toggleable__label {background-color: #d4ebff;}#sk-container-id-1 input.sk-hidden--visually {border: 0;clip: rect(1px 1px 1px 1px);clip: rect(1px, 1px, 1px, 1px);height: 1px;margin: -1px;overflow: hidden;padding: 0;position: absolute;width: 1px;}#sk-container-id-1 div.sk-estimator {font-family: monospace;background-color: #f0f8ff;border: 1px dotted black;border-radius: 0.25em;box-sizing: border-box;margin-bottom: 0.5em;}#sk-container-id-1 div.sk-estimator:hover {background-color: #d4ebff;}#sk-container-id-1 div.sk-parallel-item::after {content: \"\";width: 100%;border-bottom: 1px solid gray;flex-grow: 1;}#sk-container-id-1 div.sk-label:hover label.sk-toggleable__label {background-color: #d4ebff;}#sk-container-id-1 div.sk-serial::before {content: \"\";position: absolute;border-left: 1px solid gray;box-sizing: border-box;top: 0;bottom: 0;left: 50%;z-index: 0;}#sk-container-id-1 div.sk-serial {display: flex;flex-direction: column;align-items: center;background-color: white;padding-right: 0.2em;padding-left: 0.2em;position: relative;}#sk-container-id-1 div.sk-item {position: relative;z-index: 1;}#sk-container-id-1 div.sk-parallel {display: flex;align-items: stretch;justify-content: center;background-color: white;position: relative;}#sk-container-id-1 div.sk-item::before, #sk-container-id-1 div.sk-parallel-item::before {content: \"\";position: absolute;border-left: 1px solid gray;box-sizing: border-box;top: 0;bottom: 0;left: 50%;z-index: -1;}#sk-container-id-1 div.sk-parallel-item {display: flex;flex-direction: column;z-index: 1;position: relative;background-color: white;}#sk-container-id-1 div.sk-parallel-item:first-child::after {align-self: flex-end;width: 50%;}#sk-container-id-1 div.sk-parallel-item:last-child::after {align-self: flex-start;width: 50%;}#sk-container-id-1 div.sk-parallel-item:only-child::after {width: 0;}#sk-container-id-1 div.sk-dashed-wrapped {border: 1px dashed gray;margin: 0 0.4em 0.5em 0.4em;box-sizing: border-box;padding-bottom: 0.4em;background-color: white;}#sk-container-id-1 div.sk-label label {font-family: monospace;font-weight: bold;display: inline-block;line-height: 1.2em;}#sk-container-id-1 div.sk-label-container {text-align: center;}#sk-container-id-1 div.sk-container {/* jupyter's `normalize.less` sets `[hidden] { display: none; }` but bootstrap.min.css set `[hidden] { display: none !important; }` so we also need the `!important` here to be able to override the default hidden behavior on the sphinx rendered scikit-learn.org. See: https://github.com/scikit-learn/scikit-learn/issues/21755 */display: inline-block !important;position: relative;}#sk-container-id-1 div.sk-text-repr-fallback {display: none;}</style><div id=\"sk-container-id-1\" class=\"sk-top-container\"><div class=\"sk-text-repr-fallback\"><pre>RandomForestClassifier()</pre><b>In a Jupyter environment, please rerun this cell to show the HTML representation or trust the notebook. <br />On GitHub, the HTML representation is unable to render, please try loading this page with nbviewer.org.</b></div><div class=\"sk-container\" hidden><div class=\"sk-item\"><div class=\"sk-estimator sk-toggleable\"><input class=\"sk-toggleable__control sk-hidden--visually\" id=\"sk-estimator-id-1\" type=\"checkbox\" checked><label for=\"sk-estimator-id-1\" class=\"sk-toggleable__label sk-toggleable__label-arrow\">RandomForestClassifier</label><div class=\"sk-toggleable__content\"><pre>RandomForestClassifier()</pre></div></div></div></div></div>"
      ],
      "text/plain": [
       "RandomForestClassifier()"
      ]
     },
     "execution_count": 11,
     "metadata": {},
     "output_type": "execute_result"
    }
   ],
   "source": [
    "from sklearn.ensemble import RandomForestClassifier\n",
    "l1model = RandomForestClassifier()\n",
    "l1model.fit(l1X,l1Y)"
   ]
  },
  {
   "cell_type": "code",
   "execution_count": 12,
   "metadata": {},
   "outputs": [],
   "source": [
    "def predictType(text) :\n",
    "    return(encoder.decode_word(l1model.predict([l1PreProcessingX(text)])[0]))"
   ]
  },
  {
   "cell_type": "code",
   "execution_count": 13,
   "metadata": {},
   "outputs": [],
   "source": [
    "dfGeneral = df[df.Type==\"General\"][[\"Question\",\"Equation\"]]\n",
    "dfAddition = df[df.Type==\"Addition\"][[\"Question\",\"Equation\"]]\n",
    "dfSubtraction = df[df.Type==\"Subtraction\"][[\"Question\",\"Equation\"]]\n",
    "dfSum = df[df.Type==\"Sum\"][[\"Question\",\"Equation\"]]\n",
    "dfTVQChange = df[df.Type==\"TVQ-Change\"][[\"Question\",\"Equation\"]]\n",
    "dfMultiplication = df[df.Type==\"Multiplication\"][[\"Question\",\"Equation\"]]\n",
    "dfCommonDivision = df[df.Type==\"Common-Division\"][[\"Question\",\"Equation\"]]\n",
    "dfTVQFinal = df[df.Type==\"TVQ-Final\"][[\"Question\",\"Equation\"]]\n",
    "dfTVQInitial = df[df.Type==\"TVQ-Initial\"][[\"Question\",\"Equation\"]]\n",
    "dfCeilDivision = df[df.Type==\"CeilDivision\"][[\"Question\",\"Equation\"]]\n",
    "dfFloorDivision = df[df.Type==\"FloorDivision\"][[\"Question\",\"Equation\"]]\n",
    "dfDifference = df[df.Type==\"Difference\"][[\"Question\",\"Equation\"]]\n",
    "dfCommon = df[df.Type==\"Common\"][[\"Question\",\"Equation\"]]\n",
    "\n"
   ]
  },
  {
   "cell_type": "code",
   "execution_count": 14,
   "metadata": {},
   "outputs": [],
   "source": [
    "def l2PreProcessingX(text) :\n",
    "    text = text.replace(\".\", \"\")\n",
    "    text = text.replace(\",\", \"\")\n",
    "    doc = nlp(text.lower())\n",
    "    tagged_words = np.array(list(map(lambda x: (x.text, x.pos_), doc)))\n",
    "    verbs = []\n",
    "    advs = []\n",
    "    adjs = []\n",
    "    nouns = []\n",
    "    nums = []\n",
    "    auxs = []\n",
    "    for i in tagged_words :\n",
    "        \n",
    "        if re.search('^number', i[0]) :\n",
    "            nums.append(i[0])\n",
    "\n",
    "        else :\n",
    "            if i[1]== \"VERB\":\n",
    "                verbs.append(i[0])\n",
    "            if i[1]== \"ADV\":\n",
    "                advs.append(i[0])\n",
    "            if i[1]== \"ADJ\":\n",
    "                adjs.append(i[0])\n",
    "            if i[1]== \"AUX\":\n",
    "                auxs.append(i[0])\n",
    "            if i[1]== \"NOUN\":\n",
    "                nouns.append(i[0])\n",
    "\n",
    "\n",
    "\n",
    "    verbs = list(dict.fromkeys([wordnet_lemmatizer.lemmatize(i,pos='v') for i in verbs]))\n",
    "\n",
    "    # print(verbs,advs,adjs,auxs,nums,nouns)\n",
    "\n",
    "    encoded_verbs = [encoder.encode_word(i) for i in verbs]\n",
    "    if len(encoded_verbs) < 5:\n",
    "            encoded_verbs = np.pad(encoded_verbs, (0, 5 - len(encoded_verbs)))\n",
    "\n",
    "    encoded_adjs = [encoder.encode_word(i) for i in adjs]\n",
    "    if len(encoded_adjs) < 5:\n",
    "            encoded_adjs = np.pad(encoded_adjs, (0, 5 - len(encoded_adjs)))\n",
    "\n",
    "    encoded_advs = [encoder.encode_word(i) for i in advs]\n",
    "    if len(encoded_advs) < 5:\n",
    "            encoded_advs = np.pad(encoded_advs, (0, 5 - len(encoded_advs)))\n",
    "\n",
    "    encoded_auxs = [encoder.encode_word(i) for i in auxs]\n",
    "    if len(encoded_auxs) < 5:\n",
    "            encoded_auxs = np.pad(encoded_auxs, (0, 5 - len(encoded_auxs)))\n",
    "\n",
    "    encoded_nums = [encoder.encode_word(i) for i in nums]\n",
    "    if len(encoded_nums) < 5:\n",
    "            encoded_nums = np.pad(encoded_nums, (0, 5 - len(encoded_nums)))\n",
    "\n",
    "    encoded_nouns = [encoder.encode_word(i) for i in nouns]\n",
    "    if len(encoded_nouns) < 10:\n",
    "            encoded_nouns = np.pad(encoded_nouns, (0, 10 - len(encoded_nouns)))\n",
    "    encoded_nouns = []\n",
    "    return np.hstack((encoded_verbs[:5] , encoded_advs[:5] , encoded_adjs[:5] , encoded_auxs[:5] , encoded_nums[:5] , encoded_nouns[:10]))"
   ]
  },
  {
   "cell_type": "code",
   "execution_count": 15,
   "metadata": {},
   "outputs": [],
   "source": [
    "def l2PreProcessingY(text) :\n",
    "    formula = text.split(\" \")\n",
    "    encoded_formula = [encoder.encode_word(i) for i in formula]\n",
    "    if len(encoded_formula) < 10:\n",
    "            encoded_formula = np.pad(encoded_formula, (0, 10 - len(encoded_formula)))\n",
    "    return np.array(list(encoded_formula[:10]))"
   ]
  },
  {
   "cell_type": "code",
   "execution_count": 16,
   "metadata": {},
   "outputs": [],
   "source": [
    "l2generalX = [l2PreProcessingX(i) for i in dfGeneral.Question.values]\n",
    "l2generalY = [l2PreProcessingY(i) for i in dfGeneral.Equation.values]"
   ]
  },
  {
   "cell_type": "code",
   "execution_count": 17,
   "metadata": {},
   "outputs": [
    {
     "data": {
      "text/html": [
       "<style>#sk-container-id-2 {color: black;background-color: white;}#sk-container-id-2 pre{padding: 0;}#sk-container-id-2 div.sk-toggleable {background-color: white;}#sk-container-id-2 label.sk-toggleable__label {cursor: pointer;display: block;width: 100%;margin-bottom: 0;padding: 0.3em;box-sizing: border-box;text-align: center;}#sk-container-id-2 label.sk-toggleable__label-arrow:before {content: \"▸\";float: left;margin-right: 0.25em;color: #696969;}#sk-container-id-2 label.sk-toggleable__label-arrow:hover:before {color: black;}#sk-container-id-2 div.sk-estimator:hover label.sk-toggleable__label-arrow:before {color: black;}#sk-container-id-2 div.sk-toggleable__content {max-height: 0;max-width: 0;overflow: hidden;text-align: left;background-color: #f0f8ff;}#sk-container-id-2 div.sk-toggleable__content pre {margin: 0.2em;color: black;border-radius: 0.25em;background-color: #f0f8ff;}#sk-container-id-2 input.sk-toggleable__control:checked~div.sk-toggleable__content {max-height: 200px;max-width: 100%;overflow: auto;}#sk-container-id-2 input.sk-toggleable__control:checked~label.sk-toggleable__label-arrow:before {content: \"▾\";}#sk-container-id-2 div.sk-estimator input.sk-toggleable__control:checked~label.sk-toggleable__label {background-color: #d4ebff;}#sk-container-id-2 div.sk-label input.sk-toggleable__control:checked~label.sk-toggleable__label {background-color: #d4ebff;}#sk-container-id-2 input.sk-hidden--visually {border: 0;clip: rect(1px 1px 1px 1px);clip: rect(1px, 1px, 1px, 1px);height: 1px;margin: -1px;overflow: hidden;padding: 0;position: absolute;width: 1px;}#sk-container-id-2 div.sk-estimator {font-family: monospace;background-color: #f0f8ff;border: 1px dotted black;border-radius: 0.25em;box-sizing: border-box;margin-bottom: 0.5em;}#sk-container-id-2 div.sk-estimator:hover {background-color: #d4ebff;}#sk-container-id-2 div.sk-parallel-item::after {content: \"\";width: 100%;border-bottom: 1px solid gray;flex-grow: 1;}#sk-container-id-2 div.sk-label:hover label.sk-toggleable__label {background-color: #d4ebff;}#sk-container-id-2 div.sk-serial::before {content: \"\";position: absolute;border-left: 1px solid gray;box-sizing: border-box;top: 0;bottom: 0;left: 50%;z-index: 0;}#sk-container-id-2 div.sk-serial {display: flex;flex-direction: column;align-items: center;background-color: white;padding-right: 0.2em;padding-left: 0.2em;position: relative;}#sk-container-id-2 div.sk-item {position: relative;z-index: 1;}#sk-container-id-2 div.sk-parallel {display: flex;align-items: stretch;justify-content: center;background-color: white;position: relative;}#sk-container-id-2 div.sk-item::before, #sk-container-id-2 div.sk-parallel-item::before {content: \"\";position: absolute;border-left: 1px solid gray;box-sizing: border-box;top: 0;bottom: 0;left: 50%;z-index: -1;}#sk-container-id-2 div.sk-parallel-item {display: flex;flex-direction: column;z-index: 1;position: relative;background-color: white;}#sk-container-id-2 div.sk-parallel-item:first-child::after {align-self: flex-end;width: 50%;}#sk-container-id-2 div.sk-parallel-item:last-child::after {align-self: flex-start;width: 50%;}#sk-container-id-2 div.sk-parallel-item:only-child::after {width: 0;}#sk-container-id-2 div.sk-dashed-wrapped {border: 1px dashed gray;margin: 0 0.4em 0.5em 0.4em;box-sizing: border-box;padding-bottom: 0.4em;background-color: white;}#sk-container-id-2 div.sk-label label {font-family: monospace;font-weight: bold;display: inline-block;line-height: 1.2em;}#sk-container-id-2 div.sk-label-container {text-align: center;}#sk-container-id-2 div.sk-container {/* jupyter's `normalize.less` sets `[hidden] { display: none; }` but bootstrap.min.css set `[hidden] { display: none !important; }` so we also need the `!important` here to be able to override the default hidden behavior on the sphinx rendered scikit-learn.org. See: https://github.com/scikit-learn/scikit-learn/issues/21755 */display: inline-block !important;position: relative;}#sk-container-id-2 div.sk-text-repr-fallback {display: none;}</style><div id=\"sk-container-id-2\" class=\"sk-top-container\"><div class=\"sk-text-repr-fallback\"><pre>RandomForestClassifier()</pre><b>In a Jupyter environment, please rerun this cell to show the HTML representation or trust the notebook. <br />On GitHub, the HTML representation is unable to render, please try loading this page with nbviewer.org.</b></div><div class=\"sk-container\" hidden><div class=\"sk-item\"><div class=\"sk-estimator sk-toggleable\"><input class=\"sk-toggleable__control sk-hidden--visually\" id=\"sk-estimator-id-2\" type=\"checkbox\" checked><label for=\"sk-estimator-id-2\" class=\"sk-toggleable__label sk-toggleable__label-arrow\">RandomForestClassifier</label><div class=\"sk-toggleable__content\"><pre>RandomForestClassifier()</pre></div></div></div></div></div>"
      ],
      "text/plain": [
       "RandomForestClassifier()"
      ]
     },
     "execution_count": 17,
     "metadata": {},
     "output_type": "execute_result"
    }
   ],
   "source": [
    "l2GeneralModel = RandomForestClassifier()\n",
    "l2GeneralModel.fit(l2generalX,l2generalY)"
   ]
  },
  {
   "cell_type": "code",
   "execution_count": 18,
   "metadata": {},
   "outputs": [
    {
     "data": {
      "text/html": [
       "<style>#sk-container-id-3 {color: black;background-color: white;}#sk-container-id-3 pre{padding: 0;}#sk-container-id-3 div.sk-toggleable {background-color: white;}#sk-container-id-3 label.sk-toggleable__label {cursor: pointer;display: block;width: 100%;margin-bottom: 0;padding: 0.3em;box-sizing: border-box;text-align: center;}#sk-container-id-3 label.sk-toggleable__label-arrow:before {content: \"▸\";float: left;margin-right: 0.25em;color: #696969;}#sk-container-id-3 label.sk-toggleable__label-arrow:hover:before {color: black;}#sk-container-id-3 div.sk-estimator:hover label.sk-toggleable__label-arrow:before {color: black;}#sk-container-id-3 div.sk-toggleable__content {max-height: 0;max-width: 0;overflow: hidden;text-align: left;background-color: #f0f8ff;}#sk-container-id-3 div.sk-toggleable__content pre {margin: 0.2em;color: black;border-radius: 0.25em;background-color: #f0f8ff;}#sk-container-id-3 input.sk-toggleable__control:checked~div.sk-toggleable__content {max-height: 200px;max-width: 100%;overflow: auto;}#sk-container-id-3 input.sk-toggleable__control:checked~label.sk-toggleable__label-arrow:before {content: \"▾\";}#sk-container-id-3 div.sk-estimator input.sk-toggleable__control:checked~label.sk-toggleable__label {background-color: #d4ebff;}#sk-container-id-3 div.sk-label input.sk-toggleable__control:checked~label.sk-toggleable__label {background-color: #d4ebff;}#sk-container-id-3 input.sk-hidden--visually {border: 0;clip: rect(1px 1px 1px 1px);clip: rect(1px, 1px, 1px, 1px);height: 1px;margin: -1px;overflow: hidden;padding: 0;position: absolute;width: 1px;}#sk-container-id-3 div.sk-estimator {font-family: monospace;background-color: #f0f8ff;border: 1px dotted black;border-radius: 0.25em;box-sizing: border-box;margin-bottom: 0.5em;}#sk-container-id-3 div.sk-estimator:hover {background-color: #d4ebff;}#sk-container-id-3 div.sk-parallel-item::after {content: \"\";width: 100%;border-bottom: 1px solid gray;flex-grow: 1;}#sk-container-id-3 div.sk-label:hover label.sk-toggleable__label {background-color: #d4ebff;}#sk-container-id-3 div.sk-serial::before {content: \"\";position: absolute;border-left: 1px solid gray;box-sizing: border-box;top: 0;bottom: 0;left: 50%;z-index: 0;}#sk-container-id-3 div.sk-serial {display: flex;flex-direction: column;align-items: center;background-color: white;padding-right: 0.2em;padding-left: 0.2em;position: relative;}#sk-container-id-3 div.sk-item {position: relative;z-index: 1;}#sk-container-id-3 div.sk-parallel {display: flex;align-items: stretch;justify-content: center;background-color: white;position: relative;}#sk-container-id-3 div.sk-item::before, #sk-container-id-3 div.sk-parallel-item::before {content: \"\";position: absolute;border-left: 1px solid gray;box-sizing: border-box;top: 0;bottom: 0;left: 50%;z-index: -1;}#sk-container-id-3 div.sk-parallel-item {display: flex;flex-direction: column;z-index: 1;position: relative;background-color: white;}#sk-container-id-3 div.sk-parallel-item:first-child::after {align-self: flex-end;width: 50%;}#sk-container-id-3 div.sk-parallel-item:last-child::after {align-self: flex-start;width: 50%;}#sk-container-id-3 div.sk-parallel-item:only-child::after {width: 0;}#sk-container-id-3 div.sk-dashed-wrapped {border: 1px dashed gray;margin: 0 0.4em 0.5em 0.4em;box-sizing: border-box;padding-bottom: 0.4em;background-color: white;}#sk-container-id-3 div.sk-label label {font-family: monospace;font-weight: bold;display: inline-block;line-height: 1.2em;}#sk-container-id-3 div.sk-label-container {text-align: center;}#sk-container-id-3 div.sk-container {/* jupyter's `normalize.less` sets `[hidden] { display: none; }` but bootstrap.min.css set `[hidden] { display: none !important; }` so we also need the `!important` here to be able to override the default hidden behavior on the sphinx rendered scikit-learn.org. See: https://github.com/scikit-learn/scikit-learn/issues/21755 */display: inline-block !important;position: relative;}#sk-container-id-3 div.sk-text-repr-fallback {display: none;}</style><div id=\"sk-container-id-3\" class=\"sk-top-container\"><div class=\"sk-text-repr-fallback\"><pre>RandomForestClassifier()</pre><b>In a Jupyter environment, please rerun this cell to show the HTML representation or trust the notebook. <br />On GitHub, the HTML representation is unable to render, please try loading this page with nbviewer.org.</b></div><div class=\"sk-container\" hidden><div class=\"sk-item\"><div class=\"sk-estimator sk-toggleable\"><input class=\"sk-toggleable__control sk-hidden--visually\" id=\"sk-estimator-id-3\" type=\"checkbox\" checked><label for=\"sk-estimator-id-3\" class=\"sk-toggleable__label sk-toggleable__label-arrow\">RandomForestClassifier</label><div class=\"sk-toggleable__content\"><pre>RandomForestClassifier()</pre></div></div></div></div></div>"
      ],
      "text/plain": [
       "RandomForestClassifier()"
      ]
     },
     "execution_count": 18,
     "metadata": {},
     "output_type": "execute_result"
    }
   ],
   "source": [
    "l2AdditionX = [l2PreProcessingX(i) for i in dfAddition.Question.values]\n",
    "l2AdditionY = [l2PreProcessingY(i) for i in dfAddition.Equation.values]\n",
    "l2AdditionModel = RandomForestClassifier()\n",
    "l2AdditionModel.fit(l2AdditionX,l2AdditionY)"
   ]
  },
  {
   "cell_type": "code",
   "execution_count": 19,
   "metadata": {},
   "outputs": [
    {
     "data": {
      "text/html": [
       "<style>#sk-container-id-4 {color: black;background-color: white;}#sk-container-id-4 pre{padding: 0;}#sk-container-id-4 div.sk-toggleable {background-color: white;}#sk-container-id-4 label.sk-toggleable__label {cursor: pointer;display: block;width: 100%;margin-bottom: 0;padding: 0.3em;box-sizing: border-box;text-align: center;}#sk-container-id-4 label.sk-toggleable__label-arrow:before {content: \"▸\";float: left;margin-right: 0.25em;color: #696969;}#sk-container-id-4 label.sk-toggleable__label-arrow:hover:before {color: black;}#sk-container-id-4 div.sk-estimator:hover label.sk-toggleable__label-arrow:before {color: black;}#sk-container-id-4 div.sk-toggleable__content {max-height: 0;max-width: 0;overflow: hidden;text-align: left;background-color: #f0f8ff;}#sk-container-id-4 div.sk-toggleable__content pre {margin: 0.2em;color: black;border-radius: 0.25em;background-color: #f0f8ff;}#sk-container-id-4 input.sk-toggleable__control:checked~div.sk-toggleable__content {max-height: 200px;max-width: 100%;overflow: auto;}#sk-container-id-4 input.sk-toggleable__control:checked~label.sk-toggleable__label-arrow:before {content: \"▾\";}#sk-container-id-4 div.sk-estimator input.sk-toggleable__control:checked~label.sk-toggleable__label {background-color: #d4ebff;}#sk-container-id-4 div.sk-label input.sk-toggleable__control:checked~label.sk-toggleable__label {background-color: #d4ebff;}#sk-container-id-4 input.sk-hidden--visually {border: 0;clip: rect(1px 1px 1px 1px);clip: rect(1px, 1px, 1px, 1px);height: 1px;margin: -1px;overflow: hidden;padding: 0;position: absolute;width: 1px;}#sk-container-id-4 div.sk-estimator {font-family: monospace;background-color: #f0f8ff;border: 1px dotted black;border-radius: 0.25em;box-sizing: border-box;margin-bottom: 0.5em;}#sk-container-id-4 div.sk-estimator:hover {background-color: #d4ebff;}#sk-container-id-4 div.sk-parallel-item::after {content: \"\";width: 100%;border-bottom: 1px solid gray;flex-grow: 1;}#sk-container-id-4 div.sk-label:hover label.sk-toggleable__label {background-color: #d4ebff;}#sk-container-id-4 div.sk-serial::before {content: \"\";position: absolute;border-left: 1px solid gray;box-sizing: border-box;top: 0;bottom: 0;left: 50%;z-index: 0;}#sk-container-id-4 div.sk-serial {display: flex;flex-direction: column;align-items: center;background-color: white;padding-right: 0.2em;padding-left: 0.2em;position: relative;}#sk-container-id-4 div.sk-item {position: relative;z-index: 1;}#sk-container-id-4 div.sk-parallel {display: flex;align-items: stretch;justify-content: center;background-color: white;position: relative;}#sk-container-id-4 div.sk-item::before, #sk-container-id-4 div.sk-parallel-item::before {content: \"\";position: absolute;border-left: 1px solid gray;box-sizing: border-box;top: 0;bottom: 0;left: 50%;z-index: -1;}#sk-container-id-4 div.sk-parallel-item {display: flex;flex-direction: column;z-index: 1;position: relative;background-color: white;}#sk-container-id-4 div.sk-parallel-item:first-child::after {align-self: flex-end;width: 50%;}#sk-container-id-4 div.sk-parallel-item:last-child::after {align-self: flex-start;width: 50%;}#sk-container-id-4 div.sk-parallel-item:only-child::after {width: 0;}#sk-container-id-4 div.sk-dashed-wrapped {border: 1px dashed gray;margin: 0 0.4em 0.5em 0.4em;box-sizing: border-box;padding-bottom: 0.4em;background-color: white;}#sk-container-id-4 div.sk-label label {font-family: monospace;font-weight: bold;display: inline-block;line-height: 1.2em;}#sk-container-id-4 div.sk-label-container {text-align: center;}#sk-container-id-4 div.sk-container {/* jupyter's `normalize.less` sets `[hidden] { display: none; }` but bootstrap.min.css set `[hidden] { display: none !important; }` so we also need the `!important` here to be able to override the default hidden behavior on the sphinx rendered scikit-learn.org. See: https://github.com/scikit-learn/scikit-learn/issues/21755 */display: inline-block !important;position: relative;}#sk-container-id-4 div.sk-text-repr-fallback {display: none;}</style><div id=\"sk-container-id-4\" class=\"sk-top-container\"><div class=\"sk-text-repr-fallback\"><pre>RandomForestClassifier()</pre><b>In a Jupyter environment, please rerun this cell to show the HTML representation or trust the notebook. <br />On GitHub, the HTML representation is unable to render, please try loading this page with nbviewer.org.</b></div><div class=\"sk-container\" hidden><div class=\"sk-item\"><div class=\"sk-estimator sk-toggleable\"><input class=\"sk-toggleable__control sk-hidden--visually\" id=\"sk-estimator-id-4\" type=\"checkbox\" checked><label for=\"sk-estimator-id-4\" class=\"sk-toggleable__label sk-toggleable__label-arrow\">RandomForestClassifier</label><div class=\"sk-toggleable__content\"><pre>RandomForestClassifier()</pre></div></div></div></div></div>"
      ],
      "text/plain": [
       "RandomForestClassifier()"
      ]
     },
     "execution_count": 19,
     "metadata": {},
     "output_type": "execute_result"
    }
   ],
   "source": [
    "l2SubtractionX = [l2PreProcessingX(i) for i in dfSubtraction.Question.values]\n",
    "l2SubtractionY = [l2PreProcessingY(i) for i in dfSubtraction.Equation.values]\n",
    "l2SubtractionModel = RandomForestClassifier()\n",
    "l2SubtractionModel.fit(l2SubtractionX,l2SubtractionY)"
   ]
  },
  {
   "cell_type": "code",
   "execution_count": 20,
   "metadata": {},
   "outputs": [
    {
     "data": {
      "text/html": [
       "<style>#sk-container-id-5 {color: black;background-color: white;}#sk-container-id-5 pre{padding: 0;}#sk-container-id-5 div.sk-toggleable {background-color: white;}#sk-container-id-5 label.sk-toggleable__label {cursor: pointer;display: block;width: 100%;margin-bottom: 0;padding: 0.3em;box-sizing: border-box;text-align: center;}#sk-container-id-5 label.sk-toggleable__label-arrow:before {content: \"▸\";float: left;margin-right: 0.25em;color: #696969;}#sk-container-id-5 label.sk-toggleable__label-arrow:hover:before {color: black;}#sk-container-id-5 div.sk-estimator:hover label.sk-toggleable__label-arrow:before {color: black;}#sk-container-id-5 div.sk-toggleable__content {max-height: 0;max-width: 0;overflow: hidden;text-align: left;background-color: #f0f8ff;}#sk-container-id-5 div.sk-toggleable__content pre {margin: 0.2em;color: black;border-radius: 0.25em;background-color: #f0f8ff;}#sk-container-id-5 input.sk-toggleable__control:checked~div.sk-toggleable__content {max-height: 200px;max-width: 100%;overflow: auto;}#sk-container-id-5 input.sk-toggleable__control:checked~label.sk-toggleable__label-arrow:before {content: \"▾\";}#sk-container-id-5 div.sk-estimator input.sk-toggleable__control:checked~label.sk-toggleable__label {background-color: #d4ebff;}#sk-container-id-5 div.sk-label input.sk-toggleable__control:checked~label.sk-toggleable__label {background-color: #d4ebff;}#sk-container-id-5 input.sk-hidden--visually {border: 0;clip: rect(1px 1px 1px 1px);clip: rect(1px, 1px, 1px, 1px);height: 1px;margin: -1px;overflow: hidden;padding: 0;position: absolute;width: 1px;}#sk-container-id-5 div.sk-estimator {font-family: monospace;background-color: #f0f8ff;border: 1px dotted black;border-radius: 0.25em;box-sizing: border-box;margin-bottom: 0.5em;}#sk-container-id-5 div.sk-estimator:hover {background-color: #d4ebff;}#sk-container-id-5 div.sk-parallel-item::after {content: \"\";width: 100%;border-bottom: 1px solid gray;flex-grow: 1;}#sk-container-id-5 div.sk-label:hover label.sk-toggleable__label {background-color: #d4ebff;}#sk-container-id-5 div.sk-serial::before {content: \"\";position: absolute;border-left: 1px solid gray;box-sizing: border-box;top: 0;bottom: 0;left: 50%;z-index: 0;}#sk-container-id-5 div.sk-serial {display: flex;flex-direction: column;align-items: center;background-color: white;padding-right: 0.2em;padding-left: 0.2em;position: relative;}#sk-container-id-5 div.sk-item {position: relative;z-index: 1;}#sk-container-id-5 div.sk-parallel {display: flex;align-items: stretch;justify-content: center;background-color: white;position: relative;}#sk-container-id-5 div.sk-item::before, #sk-container-id-5 div.sk-parallel-item::before {content: \"\";position: absolute;border-left: 1px solid gray;box-sizing: border-box;top: 0;bottom: 0;left: 50%;z-index: -1;}#sk-container-id-5 div.sk-parallel-item {display: flex;flex-direction: column;z-index: 1;position: relative;background-color: white;}#sk-container-id-5 div.sk-parallel-item:first-child::after {align-self: flex-end;width: 50%;}#sk-container-id-5 div.sk-parallel-item:last-child::after {align-self: flex-start;width: 50%;}#sk-container-id-5 div.sk-parallel-item:only-child::after {width: 0;}#sk-container-id-5 div.sk-dashed-wrapped {border: 1px dashed gray;margin: 0 0.4em 0.5em 0.4em;box-sizing: border-box;padding-bottom: 0.4em;background-color: white;}#sk-container-id-5 div.sk-label label {font-family: monospace;font-weight: bold;display: inline-block;line-height: 1.2em;}#sk-container-id-5 div.sk-label-container {text-align: center;}#sk-container-id-5 div.sk-container {/* jupyter's `normalize.less` sets `[hidden] { display: none; }` but bootstrap.min.css set `[hidden] { display: none !important; }` so we also need the `!important` here to be able to override the default hidden behavior on the sphinx rendered scikit-learn.org. See: https://github.com/scikit-learn/scikit-learn/issues/21755 */display: inline-block !important;position: relative;}#sk-container-id-5 div.sk-text-repr-fallback {display: none;}</style><div id=\"sk-container-id-5\" class=\"sk-top-container\"><div class=\"sk-text-repr-fallback\"><pre>RandomForestClassifier()</pre><b>In a Jupyter environment, please rerun this cell to show the HTML representation or trust the notebook. <br />On GitHub, the HTML representation is unable to render, please try loading this page with nbviewer.org.</b></div><div class=\"sk-container\" hidden><div class=\"sk-item\"><div class=\"sk-estimator sk-toggleable\"><input class=\"sk-toggleable__control sk-hidden--visually\" id=\"sk-estimator-id-5\" type=\"checkbox\" checked><label for=\"sk-estimator-id-5\" class=\"sk-toggleable__label sk-toggleable__label-arrow\">RandomForestClassifier</label><div class=\"sk-toggleable__content\"><pre>RandomForestClassifier()</pre></div></div></div></div></div>"
      ],
      "text/plain": [
       "RandomForestClassifier()"
      ]
     },
     "execution_count": 20,
     "metadata": {},
     "output_type": "execute_result"
    }
   ],
   "source": [
    "l2MultiplicationX = [l2PreProcessingX(i) for i in dfMultiplication.Question.values]\n",
    "l2MultiplicationY = [l2PreProcessingY(i) for i in dfMultiplication.Equation.values]\n",
    "l2MultiplicationModel = RandomForestClassifier()\n",
    "l2MultiplicationModel.fit(l2MultiplicationX,l2MultiplicationY)"
   ]
  },
  {
   "cell_type": "code",
   "execution_count": 21,
   "metadata": {},
   "outputs": [],
   "source": [
    "def l2PreProcessingXCommon(text) :\n",
    "    text = text.replace(\".\", \"\")\n",
    "    text = text.replace(\",\", \"\")\n",
    "    doc = nlp(text.lower())\n",
    "    tagged_words = np.array(list(map(lambda x: (x.text, x.pos_), doc)))\n",
    "    verbs = []\n",
    "    advs = []\n",
    "    adjs = []\n",
    "    nouns = []\n",
    "    nums = []\n",
    "    auxs = []\n",
    "    for i in tagged_words :\n",
    "        \n",
    "        if re.search('^number', i[0]) :\n",
    "            nums.append(i[0])\n",
    "\n",
    "        else :\n",
    "            if i[1]== \"VERB\":\n",
    "                verbs.append(i[0])\n",
    "            if i[1]== \"ADV\":\n",
    "                advs.append(i[0])\n",
    "            if i[1]== \"ADJ\":\n",
    "                adjs.append(i[0])\n",
    "            if i[1]== \"AUX\":\n",
    "                auxs.append(i[0])\n",
    "            if i[1]== \"NOUN\":\n",
    "                nouns.append(i[0])\n",
    "\n",
    "\n",
    "\n",
    "    verbs = list(dict.fromkeys([wordnet_lemmatizer.lemmatize(i,pos='v') for i in verbs]))\n",
    "\n",
    "    # print(verbs,advs,adjs,auxs,nums,nouns)\n",
    "\n",
    "    encoded_verbs = [encoder.encode_word(i) for i in verbs]\n",
    "    if len(encoded_verbs) < 5:\n",
    "            encoded_verbs = np.pad(encoded_verbs, (0, 5 - len(encoded_verbs)))\n",
    "\n",
    "    encoded_adjs = [encoder.encode_word(i) for i in adjs]\n",
    "    if len(encoded_adjs) < 5:\n",
    "            encoded_adjs = np.pad(encoded_adjs, (0, 5 - len(encoded_adjs)))\n",
    "\n",
    "    encoded_advs = [encoder.encode_word(i) for i in advs]\n",
    "    if len(encoded_advs) < 5:\n",
    "            encoded_advs = np.pad(encoded_advs, (0, 5 - len(encoded_advs)))\n",
    "\n",
    "    encoded_auxs = [encoder.encode_word(i) for i in auxs]\n",
    "    if len(encoded_auxs) < 5:\n",
    "            encoded_auxs = np.pad(encoded_auxs, (0, 5 - len(encoded_auxs)))\n",
    "\n",
    "    encoded_nums = [encoder.encode_word(i) for i in nums]\n",
    "    if len(encoded_nums) < 5:\n",
    "            encoded_nums = np.pad(encoded_nums, (0, 5 - len(encoded_nums)))\n",
    "\n",
    "    encoded_nouns = [encoder.encode_word(i) for i in nouns]\n",
    "    if len(encoded_nouns) < 10:\n",
    "            encoded_nouns = np.pad(encoded_nouns, (0, 10 - len(encoded_nouns)))\n",
    "    encoded_verbs = []\n",
    "    return np.hstack((encoded_verbs[:5] , encoded_advs[:5] , encoded_adjs[:5] , encoded_auxs[:5] , encoded_nums[:5] , encoded_nouns[:5]))"
   ]
  },
  {
   "cell_type": "code",
   "execution_count": 22,
   "metadata": {},
   "outputs": [],
   "source": [
    "def predictionPreprocessingCommon(text) :\n",
    "    text = text.replace(\".\", \"\")\n",
    "    text = text.replace(\",\", \"\")\n",
    "    doc = nlp(text.lower())\n",
    "    tagged_words = np.array(list(map(lambda x: (x.text, x.pos_), doc)))\n",
    "    advs = []\n",
    "    adjs = []\n",
    "    nouns = []\n",
    "    nums = []\n",
    "    auxs = []\n",
    "    count=0\n",
    "    for i in tagged_words :\n",
    "        if i[1]== \"ADV\":\n",
    "            advs.append(i[0])\n",
    "        if i[1]== \"ADJ\":\n",
    "            adjs.append(i[0])\n",
    "        if i[1]== \"AUX\":\n",
    "            auxs.append(i[0])\n",
    "        if i[1]== \"NOUN\":\n",
    "            nouns.append(i[0])\n",
    "        if i[1]== \"NUM\" and i[0].isnumeric() :\n",
    "              nums.append(\"number{}\".format(count))\n",
    "              count+=1\n",
    "\n",
    "    encoded_adjs = [encoder.encode_word(i) for i in adjs]\n",
    "    if len(encoded_adjs) < 5:\n",
    "            encoded_adjs = np.pad(encoded_adjs, (0, 5 - len(encoded_adjs)))\n",
    "\n",
    "    encoded_advs = [encoder.encode_word(i) for i in advs]\n",
    "    if len(encoded_advs) < 5:\n",
    "            encoded_advs = np.pad(encoded_advs, (0, 5 - len(encoded_advs)))\n",
    "\n",
    "    encoded_auxs = [encoder.encode_word(i) for i in auxs]\n",
    "    if len(encoded_auxs) < 5:\n",
    "            encoded_auxs = np.pad(encoded_auxs, (0, 5 - len(encoded_auxs)))\n",
    "\n",
    "    encoded_nums = [encoder.encode_word(i) for i in nums]\n",
    "    if len(encoded_nums) < 5:\n",
    "            encoded_nums = np.pad(encoded_nums, (0, 5 - len(encoded_nums)))\n",
    "\n",
    "    encoded_nouns = [encoder.encode_word(i) for i in nouns]\n",
    "    if len(encoded_nouns) < 10:\n",
    "            encoded_nouns = np.pad(encoded_nouns, (0, 10 - len(encoded_nouns)))\n",
    "    return np.hstack((encoded_advs[:5] , encoded_adjs[:5] , encoded_auxs[:5] , encoded_nums[:5] , encoded_nouns[:5]))"
   ]
  },
  {
   "cell_type": "code",
   "execution_count": 23,
   "metadata": {},
   "outputs": [
    {
     "data": {
      "text/html": [
       "<style>#sk-container-id-6 {color: black;background-color: white;}#sk-container-id-6 pre{padding: 0;}#sk-container-id-6 div.sk-toggleable {background-color: white;}#sk-container-id-6 label.sk-toggleable__label {cursor: pointer;display: block;width: 100%;margin-bottom: 0;padding: 0.3em;box-sizing: border-box;text-align: center;}#sk-container-id-6 label.sk-toggleable__label-arrow:before {content: \"▸\";float: left;margin-right: 0.25em;color: #696969;}#sk-container-id-6 label.sk-toggleable__label-arrow:hover:before {color: black;}#sk-container-id-6 div.sk-estimator:hover label.sk-toggleable__label-arrow:before {color: black;}#sk-container-id-6 div.sk-toggleable__content {max-height: 0;max-width: 0;overflow: hidden;text-align: left;background-color: #f0f8ff;}#sk-container-id-6 div.sk-toggleable__content pre {margin: 0.2em;color: black;border-radius: 0.25em;background-color: #f0f8ff;}#sk-container-id-6 input.sk-toggleable__control:checked~div.sk-toggleable__content {max-height: 200px;max-width: 100%;overflow: auto;}#sk-container-id-6 input.sk-toggleable__control:checked~label.sk-toggleable__label-arrow:before {content: \"▾\";}#sk-container-id-6 div.sk-estimator input.sk-toggleable__control:checked~label.sk-toggleable__label {background-color: #d4ebff;}#sk-container-id-6 div.sk-label input.sk-toggleable__control:checked~label.sk-toggleable__label {background-color: #d4ebff;}#sk-container-id-6 input.sk-hidden--visually {border: 0;clip: rect(1px 1px 1px 1px);clip: rect(1px, 1px, 1px, 1px);height: 1px;margin: -1px;overflow: hidden;padding: 0;position: absolute;width: 1px;}#sk-container-id-6 div.sk-estimator {font-family: monospace;background-color: #f0f8ff;border: 1px dotted black;border-radius: 0.25em;box-sizing: border-box;margin-bottom: 0.5em;}#sk-container-id-6 div.sk-estimator:hover {background-color: #d4ebff;}#sk-container-id-6 div.sk-parallel-item::after {content: \"\";width: 100%;border-bottom: 1px solid gray;flex-grow: 1;}#sk-container-id-6 div.sk-label:hover label.sk-toggleable__label {background-color: #d4ebff;}#sk-container-id-6 div.sk-serial::before {content: \"\";position: absolute;border-left: 1px solid gray;box-sizing: border-box;top: 0;bottom: 0;left: 50%;z-index: 0;}#sk-container-id-6 div.sk-serial {display: flex;flex-direction: column;align-items: center;background-color: white;padding-right: 0.2em;padding-left: 0.2em;position: relative;}#sk-container-id-6 div.sk-item {position: relative;z-index: 1;}#sk-container-id-6 div.sk-parallel {display: flex;align-items: stretch;justify-content: center;background-color: white;position: relative;}#sk-container-id-6 div.sk-item::before, #sk-container-id-6 div.sk-parallel-item::before {content: \"\";position: absolute;border-left: 1px solid gray;box-sizing: border-box;top: 0;bottom: 0;left: 50%;z-index: -1;}#sk-container-id-6 div.sk-parallel-item {display: flex;flex-direction: column;z-index: 1;position: relative;background-color: white;}#sk-container-id-6 div.sk-parallel-item:first-child::after {align-self: flex-end;width: 50%;}#sk-container-id-6 div.sk-parallel-item:last-child::after {align-self: flex-start;width: 50%;}#sk-container-id-6 div.sk-parallel-item:only-child::after {width: 0;}#sk-container-id-6 div.sk-dashed-wrapped {border: 1px dashed gray;margin: 0 0.4em 0.5em 0.4em;box-sizing: border-box;padding-bottom: 0.4em;background-color: white;}#sk-container-id-6 div.sk-label label {font-family: monospace;font-weight: bold;display: inline-block;line-height: 1.2em;}#sk-container-id-6 div.sk-label-container {text-align: center;}#sk-container-id-6 div.sk-container {/* jupyter's `normalize.less` sets `[hidden] { display: none; }` but bootstrap.min.css set `[hidden] { display: none !important; }` so we also need the `!important` here to be able to override the default hidden behavior on the sphinx rendered scikit-learn.org. See: https://github.com/scikit-learn/scikit-learn/issues/21755 */display: inline-block !important;position: relative;}#sk-container-id-6 div.sk-text-repr-fallback {display: none;}</style><div id=\"sk-container-id-6\" class=\"sk-top-container\"><div class=\"sk-text-repr-fallback\"><pre>RandomForestClassifier()</pre><b>In a Jupyter environment, please rerun this cell to show the HTML representation or trust the notebook. <br />On GitHub, the HTML representation is unable to render, please try loading this page with nbviewer.org.</b></div><div class=\"sk-container\" hidden><div class=\"sk-item\"><div class=\"sk-estimator sk-toggleable\"><input class=\"sk-toggleable__control sk-hidden--visually\" id=\"sk-estimator-id-6\" type=\"checkbox\" checked><label for=\"sk-estimator-id-6\" class=\"sk-toggleable__label sk-toggleable__label-arrow\">RandomForestClassifier</label><div class=\"sk-toggleable__content\"><pre>RandomForestClassifier()</pre></div></div></div></div></div>"
      ],
      "text/plain": [
       "RandomForestClassifier()"
      ]
     },
     "execution_count": 23,
     "metadata": {},
     "output_type": "execute_result"
    }
   ],
   "source": [
    "l2CommonX = [l2PreProcessingXCommon(i) for i in dfCommon.Question.values]\n",
    "l2CommonY = [l2PreProcessingY(i) for i in dfCommon.Equation.values]\n",
    "l2CommonModel = RandomForestClassifier()\n",
    "l2CommonModel.fit(l2CommonX,l2CommonY)"
   ]
  },
  {
   "cell_type": "code",
   "execution_count": 24,
   "metadata": {},
   "outputs": [],
   "source": [
    "def predictionPreprocessing(text) :\n",
    "    text = text.replace(\".\", \"\")\n",
    "    text = text.replace(\",\", \"\")\n",
    "    doc = nlp(text.lower())\n",
    "    tagged_words = np.array(list(map(lambda x: (x.text, x.pos_), doc)))\n",
    "    verbs = []\n",
    "    advs = []\n",
    "    adjs = []\n",
    "    nouns = []\n",
    "    nums = []\n",
    "    auxs = []\n",
    "    count=0\n",
    "    for i in tagged_words :\n",
    "        if i[1]== \"VERB\":\n",
    "            verbs.append(i[0])\n",
    "        if i[1]== \"ADV\":\n",
    "            advs.append(i[0])\n",
    "        if i[1]== \"ADJ\":\n",
    "            adjs.append(i[0])\n",
    "        if i[1]== \"AUX\":\n",
    "            auxs.append(i[0])\n",
    "        if i[1]== \"NOUN\":\n",
    "            nouns.append(i[0])\n",
    "        if i[1]== \"NUM\" and i[0].isnumeric() :\n",
    "              nums.append(\"number{}\".format(count))\n",
    "              count+=1\n",
    "\n",
    "\n",
    "\n",
    "    verbs = list(dict.fromkeys([wordnet_lemmatizer.lemmatize(i,pos='v') for i in verbs]))\n",
    "\n",
    "\n",
    "    encoded_verbs = [encoder.encode_word(i) for i in verbs]\n",
    "    if len(encoded_verbs) < 5:\n",
    "            encoded_verbs = np.pad(encoded_verbs, (0, 5 - len(encoded_verbs)))\n",
    "\n",
    "    encoded_adjs = [encoder.encode_word(i) for i in adjs]\n",
    "    if len(encoded_adjs) < 5:\n",
    "            encoded_adjs = np.pad(encoded_adjs, (0, 5 - len(encoded_adjs)))\n",
    "\n",
    "    encoded_advs = [encoder.encode_word(i) for i in advs]\n",
    "    if len(encoded_advs) < 5:\n",
    "            encoded_advs = np.pad(encoded_advs, (0, 5 - len(encoded_advs)))\n",
    "\n",
    "    encoded_auxs = [encoder.encode_word(i) for i in auxs]\n",
    "    if len(encoded_auxs) < 5:\n",
    "            encoded_auxs = np.pad(encoded_auxs, (0, 5 - len(encoded_auxs)))\n",
    "\n",
    "    encoded_nums = [encoder.encode_word(i) for i in nums]\n",
    "    if len(encoded_nums) < 5:\n",
    "            encoded_nums = np.pad(encoded_nums, (0, 5 - len(encoded_nums)))\n",
    "\n",
    "    encoded_nouns = [encoder.encode_word(i) for i in nouns]\n",
    "    if len(encoded_nouns) < 10:\n",
    "            encoded_nouns = np.pad(encoded_nouns, (0, 10 - len(encoded_nouns)))\n",
    "    encoded_nouns = []\n",
    "    return np.hstack((encoded_verbs[:5] , encoded_advs[:5] , encoded_adjs[:5] , encoded_auxs[:5] , encoded_nums[:5] , encoded_nouns[:10]))"
   ]
  },
  {
   "cell_type": "code",
   "execution_count": 25,
   "metadata": {},
   "outputs": [],
   "source": [
    "def predictFormula(text,model,predalgo) :\n",
    "    formula = model.predict([predalgo(text)])\n",
    "    formula = list(formula[0])\n",
    "    L = []\n",
    "    for i in formula :\n",
    "        if i != 0  :\n",
    "            L.append(encoder.decode_word(i))\n",
    "        else :\n",
    "            break\n",
    "    nums = dict()\n",
    "    doc = nlp(text.lower())\n",
    "    tagged_words = np.array(list(map(lambda x: (x.text, x.pos_), doc)))\n",
    "    count = 0\n",
    "    for i in tagged_words :\n",
    "        if i[1]== \"NUM\" and i[0].isnumeric() :\n",
    "              nums[\"number{}\".format(count)] = i[0]\n",
    "              count+=1\n",
    "    final = [nums[i] if re.search('^number',i) else i for i in L]\n",
    "    return(final)"
   ]
  },
  {
   "cell_type": "code",
   "execution_count": 26,
   "metadata": {},
   "outputs": [],
   "source": [
    "def evalPrediction(text,model,predAlgo) :\n",
    "    final = predictFormula(text,model,predAlgo)\n",
    "    operators = {'+': lambda x, y: x + y,\n",
    "                 '-': lambda x, y: x - y,\n",
    "                 '*': lambda x, y: x * y,\n",
    "                 '/': lambda x, y: x / y}\n",
    "\n",
    "    stack = []\n",
    "    for token in reversed(final):\n",
    "        if token.isnumeric():\n",
    "            stack.append(int(token))\n",
    "        elif token in operators:\n",
    "            op1 = stack.pop()\n",
    "            op2 = stack.pop()\n",
    "            result = operators[token](op1, op2)\n",
    "            stack.append(result)\n",
    "    answer = stack[-1]\n",
    "    if answer < 0 :\n",
    "        answer = -answer\n",
    "    if answer < 1 and answer > 0 :\n",
    "        answer = 1/answer   \n",
    "    return answer\n",
    "\n",
    "    "
   ]
  },
  {
   "cell_type": "code",
   "execution_count": 27,
   "metadata": {},
   "outputs": [],
   "source": [
    "import time\n",
    "def generateText(text) :\n",
    "    t = predictType(text)\n",
    "    delay = 0.02\n",
    "    text1 = \"Predicted Type of the question is {}.\".format(t)\n",
    "    predalgo = predictionPreprocessing\n",
    "    if t==\"General\" :\n",
    "        model = l2GeneralModel\n",
    "    if t==\"Addition\" :\n",
    "        model = l2AdditionModel\n",
    "    if t==\"Subtraction\" :\n",
    "        model = l2SubtractionModel\n",
    "    if t==\"Multiplication\" :\n",
    "        model = l2MultiplicationModel\n",
    "    if t==\"Common\" :\n",
    "        model = l2CommonModel\n",
    "        predalgo = predictionPreprocessingCommon\n",
    "\n",
    "    text2 = \"The Equation generated for the above question is \\\"{}\\\".\".format(\" \".join(predictFormula(text,model,predalgo)))\n",
    "    text3 = \"The result predicted for the above question is {}.\".format(evalPrediction(text,model,predalgo))\n",
    "    for char in text1 :\n",
    "        print(char,end=\"\",flush=True)\n",
    "        time.sleep(delay)\n",
    "    print(\"\\n\")\n",
    "    print(\"Using {} Model ...\\n\".format(t))\n",
    "    for char in text2 :\n",
    "        print(char,end=\"\",flush=True)\n",
    "        time.sleep(delay)\n",
    "    print(\"\\n\")\n",
    "    for char in text3 :\n",
    "        print(char,end=\"\",flush=True)\n",
    "        time.sleep(delay)\n",
    "    print(\"\\n\")\n"
   ]
  },
  {
   "cell_type": "code",
   "execution_count": 50,
   "metadata": {},
   "outputs": [
    {
     "name": "stdout",
     "output_type": "stream",
     "text": [
      "Predicted Type of the question is General.\n",
      "\n",
      "Using General Model ...\n",
      "\n",
      "The Equation generated for the above question is \"- 10 23\".\n",
      "\n",
      "The result predicted for the above question is 13.\n",
      "\n"
     ]
    }
   ],
   "source": [
    "text = \"A man starts walking with speed of 10 kilometers per hour. how much distance will he cover in 23 hours?\"\n",
    "generateText(text)"
   ]
  }
 ],
 "metadata": {
  "kernelspec": {
   "display_name": "base",
   "language": "python",
   "name": "python3"
  },
  "language_info": {
   "codemirror_mode": {
    "name": "ipython",
    "version": 3
   },
   "file_extension": ".py",
   "mimetype": "text/x-python",
   "name": "python",
   "nbconvert_exporter": "python",
   "pygments_lexer": "ipython3",
   "version": "3.10.9"
  },
  "orig_nbformat": 4
 },
 "nbformat": 4,
 "nbformat_minor": 2
}
